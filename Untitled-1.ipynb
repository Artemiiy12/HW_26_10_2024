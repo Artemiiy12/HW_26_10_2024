{
 "cells": [
  {
   "cell_type": "code",
   "execution_count": 153,
   "metadata": {},
   "outputs": [
    {
     "name": "stdout",
     "output_type": "stream",
     "text": [
      "['Drama', 'Comedy', 'Fantasy']\n"
     ]
    }
   ],
   "source": [
    "category = [\"Drama\", \"Comedy\", \"Fantasy\"]\n",
    "print(category)"
   ]
  },
  {
   "cell_type": "code",
   "execution_count": 154,
   "metadata": {},
   "outputs": [
    {
     "name": "stdout",
     "output_type": "stream",
     "text": [
      "['Match', 'Algorithms', 'Databases']\n"
     ]
    }
   ],
   "source": [
    "courses = list((\"Match\", \"Algorithms\",\"Databases\"))\n",
    "print(courses)"
   ]
  },
  {
   "cell_type": "code",
   "execution_count": 155,
   "metadata": {},
   "outputs": [
    {
     "name": "stdout",
     "output_type": "stream",
     "text": [
      "[]\n",
      "<class 'list'>\n"
     ]
    }
   ],
   "source": [
    "studentScores = []\n",
    "students = list\n",
    "print(studentScores) #пустой список\n",
    "print(students)"
   ]
  },
  {
   "cell_type": "code",
   "execution_count": 156,
   "metadata": {},
   "outputs": [
    {
     "name": "stdout",
     "output_type": "stream",
     "text": [
      "['Algorithms', 2345, 7009, 'Networks', 'Databases']\n"
     ]
    }
   ],
   "source": [
    "myCourses = [\"Algorithms\", 2345, 7009,\"Networks\",\"Databases\"]\n",
    "print(myCourses)"
   ]
  },
  {
   "cell_type": "code",
   "execution_count": 157,
   "metadata": {},
   "outputs": [
    {
     "name": "stdout",
     "output_type": "stream",
     "text": [
      "[1, 2.5, {'Example', 45}]\n"
     ]
    }
   ],
   "source": [
    "nestedList = [1, 2.5, {45, 'Example'}]\n",
    "print(nestedList)"
   ]
  },
  {
   "cell_type": "code",
   "execution_count": 158,
   "metadata": {},
   "outputs": [
    {
     "name": "stdout",
     "output_type": "stream",
     "text": [
      "['Bob', 'Anna', 'Joe', 'Bob', 'Nick']\n"
     ]
    }
   ],
   "source": [
    "customers = ['Bob','Anna','Joe','Bob','Nick']\n",
    "print(customers)"
   ]
  },
  {
   "cell_type": "code",
   "execution_count": 159,
   "metadata": {},
   "outputs": [
    {
     "name": "stdout",
     "output_type": "stream",
     "text": [
      "['a', 'b', 'c', 'd', 'e', 'f']\n"
     ]
    }
   ],
   "source": [
    "mySymbols = list(\"abcdef\")\n",
    "#myValue = list((\"abcdef\"))\n",
    "print(mySymbols)\n",
    "#print(myValue)"
   ]
  },
  {
   "cell_type": "code",
   "execution_count": 160,
   "metadata": {},
   "outputs": [
    {
     "name": "stdout",
     "output_type": "stream",
     "text": [
      "[0, 1, 4, 9, 16, 25]\n"
     ]
    }
   ],
   "source": [
    "list1 = [i * i for i in range (6)]\n",
    "print(list1)"
   ]
  },
  {
   "cell_type": "code",
   "execution_count": 161,
   "metadata": {},
   "outputs": [
    {
     "name": "stdout",
     "output_type": "stream",
     "text": [
      "['e*', 'x*', 'a*', 'm*', 'p*', 'l*', 'e*']\n"
     ]
    }
   ],
   "source": [
    "\n",
    "list2 = [i+\"*\" for i in \"example\"]\n",
    "print(list2)"
   ]
  },
  {
   "cell_type": "code",
   "execution_count": 162,
   "metadata": {},
   "outputs": [
    {
     "name": "stdout",
     "output_type": "stream",
     "text": [
      "True\n"
     ]
    }
   ],
   "source": [
    "myActiveValue = True\n",
    "\n",
    "if myActiveValue:\n",
    "    print(\"True\")\n",
    "    "
   ]
  },
  {
   "cell_type": "code",
   "execution_count": 163,
   "metadata": {},
   "outputs": [
    {
     "name": "stdout",
     "output_type": "stream",
     "text": [
      "['Anna', 'Nick']\n"
     ]
    }
   ],
   "source": [
    "customers = ['Bob','Anna','Joe','Bob','Nick']\n",
    "list5 = [i for i in customers if i!='Bob' and i!='Joe']\n",
    "print(list5)"
   ]
  },
  {
   "cell_type": "code",
   "execution_count": 164,
   "metadata": {},
   "outputs": [
    {
     "name": "stdout",
     "output_type": "stream",
     "text": [
      "[1, 2, 3, 2, 4, 6, 3, 6, 9]\n"
     ]
    }
   ],
   "source": [
    "list6 = [x*y for x in range(1, 4)for y in range(1, 4)]\n",
    "print(list6)"
   ]
  },
  {
   "cell_type": "code",
   "execution_count": 165,
   "metadata": {},
   "outputs": [
    {
     "name": "stdout",
     "output_type": "stream",
     "text": [
      "user\n",
      "12\n",
      "True\n",
      "False\n"
     ]
    }
   ],
   "source": [
    "myList = [\"user\",12, 200.34, False, True]\n",
    "print(myList[0])\n",
    "print(myList[1])\n",
    "print(myList[-1])\n",
    "print(myList[-2])"
   ]
  },
  {
   "cell_type": "code",
   "execution_count": 166,
   "metadata": {},
   "outputs": [
    {
     "name": "stdout",
     "output_type": "stream",
     "text": [
      "[2345]\n",
      "[2345, 7009]\n",
      "[2345, 7009, 'Networks']\n",
      "['Algoritms', 2345, 7009, 'Networks']\n",
      "['Algoritms', 7009, 'Databases']\n",
      "['Databases', 'Networks', 7009, 2345, 'Algoritms']\n"
     ]
    }
   ],
   "source": [
    "myCourses =[\"Algoritms\", 2345,7009,\"Networks\", \"Databases\"]\n",
    "print(myCourses[1:2])\n",
    "print(myCourses[-4:-2])\n",
    "print(myCourses[1:-1])\n",
    "\n",
    "print(myCourses[:-1])\n",
    "print(myCourses[::2])\n",
    "print(myCourses[::-1])"
   ]
  },
  {
   "cell_type": "code",
   "execution_count": 167,
   "metadata": {},
   "outputs": [
    {
     "name": "stdout",
     "output_type": "stream",
     "text": [
      "['Drama', 'Comedy', 'Fantasy']\n",
      "['Drama', 'Action', 'Fantasy']\n"
     ]
    }
   ],
   "source": [
    "category = [\"Drama\", \"Comedy\",\"Fantasy\"]\n",
    "print(category)\n",
    "category[-2] ='Action'\n",
    "print(category)"
   ]
  },
  {
   "cell_type": "code",
   "execution_count": 168,
   "metadata": {},
   "outputs": [
    {
     "name": "stdout",
     "output_type": "stream",
     "text": [
      "['admin', 'student', 'teacher', 'HR', 'user']\n",
      "['newUser1', 'student', 'newUser2', 'HR', 'newUser3']\n"
     ]
    }
   ],
   "source": [
    "userLogs = [\"admin\",\"student\",\"teacher\",\"HR\", \"user\"]\n",
    "print(userLogs)\n",
    "userLogs[::2] = [\"newUser1\",\"newUser2\", \"newUser3\", ]\n",
    "print(userLogs)"
   ]
  },
  {
   "cell_type": "code",
   "execution_count": 169,
   "metadata": {},
   "outputs": [
    {
     "name": "stdout",
     "output_type": "stream",
     "text": [
      "5\n",
      "user\n",
      "HR\n",
      "312\n",
      "['HR', 'admin', 'student', 'teacher', 'user']\n",
      "[1, 5, 12, 32, 62, 78, 122]\n"
     ]
    }
   ],
   "source": [
    "users = [\"admin\",\"student\",\"teacher\",\"HR\", \"user\"]\n",
    "numbers = [12,32,1,5,62,78,122]\n",
    "print(len(users))\n",
    "print(max(users))\n",
    "print(min(users))\n",
    "\n",
    "print(sum(numbers))\n",
    "\n",
    "print(sorted(users))\n",
    "print(sorted(numbers))"
   ]
  },
  {
   "cell_type": "code",
   "execution_count": 170,
   "metadata": {},
   "outputs": [
    {
     "name": "stdout",
     "output_type": "stream",
     "text": [
      "['Drama', 'Comedy', 'Action', 'Fantasy']\n",
      "['Drama', 'Comedy', 'Drama', 'Comedy']\n"
     ]
    }
   ],
   "source": [
    "category1= [\"Drama\",\"Comedy\"]\n",
    "category2 = [\"Action\",\"Fantasy\"]\n",
    "print(category1 + category2)\n",
    "print(category1 * 2)\n"
   ]
  },
  {
   "cell_type": "code",
   "execution_count": 171,
   "metadata": {},
   "outputs": [
    {
     "name": "stdout",
     "output_type": "stream",
     "text": [
      "DramaDrama\n",
      "ComedyComedy\n",
      "ActionAction\n",
      "FantasyFantasy\n"
     ]
    }
   ],
   "source": [
    "category = [\"Drama\",\"Comedy\",'Action','Fantasy']\n",
    "\n",
    "for film in category:\n",
    "    print(film*2)"
   ]
  },
  {
   "cell_type": "code",
   "execution_count": 172,
   "metadata": {},
   "outputs": [
    {
     "name": "stdout",
     "output_type": "stream",
     "text": [
      "Drama\n",
      "Comedy\n",
      "Action\n",
      "Fantasy\n"
     ]
    }
   ],
   "source": [
    "category = [\"Drama\",\"Comedy\",'Action','Fantasy']\n",
    "\n",
    "for i in range(len(category)):\n",
    "    print(category[i])"
   ]
  },
  {
   "cell_type": "code",
   "execution_count": 173,
   "metadata": {},
   "outputs": [
    {
     "name": "stdout",
     "output_type": "stream",
     "text": [
      "['drama', 'Romance', 'Comedy', 'Action']\n"
     ]
    }
   ],
   "source": [
    "category1 = [\"drama\", \"Comedy\"]\n",
    "category.insert(1, \"Fantasy\")\n",
    "category1.insert(-1, \"Romance\")\n",
    "category1.insert(16, \"Action\")\n",
    "print(category1)"
   ]
  },
  {
   "cell_type": "code",
   "execution_count": 174,
   "metadata": {},
   "outputs": [
    {
     "name": "stdout",
     "output_type": "stream",
     "text": [
      "['drama', 'Romance', 'Comedy', 'Action']\n"
     ]
    }
   ],
   "source": [
    "category = ['drama', 'Fantasy','Romance','Comedy','Action']\n",
    "category.pop(1)\n",
    "print(category )"
   ]
  },
  {
   "cell_type": "code",
   "execution_count": 175,
   "metadata": {},
   "outputs": [
    {
     "name": "stdout",
     "output_type": "stream",
     "text": [
      "[]\n"
     ]
    }
   ],
   "source": [
    "category = ['drama', 'Fantasy','Romance','Comedy','Action']\n",
    "category.clear()\n",
    "print(category)"
   ]
  },
  {
   "cell_type": "code",
   "execution_count": 176,
   "metadata": {},
   "outputs": [
    {
     "name": "stdout",
     "output_type": "stream",
     "text": [
      "4\n"
     ]
    }
   ],
   "source": [
    "category = ['drama', 'Fantasy','Romance','Comedy','Action']\n",
    "print(category.index(\"Action\"))"
   ]
  },
  {
   "cell_type": "code",
   "execution_count": 177,
   "metadata": {},
   "outputs": [
    {
     "data": {
      "text/plain": [
       "1"
      ]
     },
     "execution_count": 177,
     "metadata": {},
     "output_type": "execute_result"
    }
   ],
   "source": [
    "category = ['drama', 'Fantasy','Romance','Comedy','Action']\n",
    "category.count('Action')"
   ]
  },
  {
   "cell_type": "code",
   "execution_count": 178,
   "metadata": {},
   "outputs": [
    {
     "name": "stdout",
     "output_type": "stream",
     "text": [
      "None\n"
     ]
    }
   ],
   "source": [
    "category = ['drama', 'Fantasy','Romance','Comedy','Action']\n",
    "print(category.sort())\n"
   ]
  },
  {
   "cell_type": "code",
   "execution_count": 179,
   "metadata": {},
   "outputs": [
    {
     "name": "stdout",
     "output_type": "stream",
     "text": [
      "Bob is our customer\n"
     ]
    }
   ],
   "source": [
    "customers = ['Bob','Anna','Joe','Bob','Nick']\n",
    "if('Bob'in customers):\n",
    "    print(\"Bob is our customer\")\n",
    "else:\n",
    "    print(\"Sorry\")"
   ]
  },
  {
   "cell_type": "code",
   "execution_count": 180,
   "metadata": {},
   "outputs": [
    {
     "name": "stdout",
     "output_type": "stream",
     "text": [
      "[0, 1, 4, 9, 16, 25]\n",
      "[0, 'Hello', 4, 9, 16, 25]\n",
      "[0, 'Hello', 4, 9, 16, 25]\n"
     ]
    }
   ],
   "source": [
    "lsit1 = [1,2,3,4,5]\n",
    "print(list1)\n",
    "list2 = list1\n",
    "list2[1] = \"Hello\"\n",
    "print(list2)\n",
    "print(list2)"
   ]
  },
  {
   "cell_type": "code",
   "execution_count": 181,
   "metadata": {},
   "outputs": [
    {
     "name": "stdout",
     "output_type": "stream",
     "text": [
      "[0, 'Hello', 4, 9, 16, 25]\n",
      "[0, 'Hello', 4, 9, 16, 25]\n",
      "[0, 'Hello', 4, 9, 16, 25]\n",
      "[0, 'Hello', 'hello', 9, 16, 25]\n",
      "[0, 'Hello', 4, 9, 16, 25]\n"
     ]
    }
   ],
   "source": [
    "#copy\n",
    "lsit1 = [1,2,3,4,5]\n",
    "print(list1)\n",
    "\n",
    "list2 = list1.copy()\n",
    "list2[1] = \"Hello\"\n",
    "\n",
    "print(list1)\n",
    "print(list2)\n",
    "\n",
    "#list\n",
    "\n",
    "list3=list(list1)\n",
    "list3[2] = 'hello'\n",
    "print(list3)\n",
    "print(list1)\n",
    "\n"
   ]
  },
  {
   "cell_type": "code",
   "execution_count": 182,
   "metadata": {},
   "outputs": [],
   "source": [
    "#для нахождения 1 элемента мы можем использовать index\n",
    "customers =['Bob','Anna','Joe','Bob','Nick']\n",
    "#для множества можем создать цикл\n",
    "for i in range(len(customers)):\n",
    "    if customers[i] == ' Bob':\n",
    "        print(i)"
   ]
  },
  {
   "cell_type": "code",
   "execution_count": 183,
   "metadata": {},
   "outputs": [
    {
     "name": "stdout",
     "output_type": "stream",
     "text": [
      "Bob\n",
      "5\n",
      "3\n",
      "5\n",
      "2\n",
      "Kristofer\n",
      "5\n",
      "5\n",
      "5\n",
      "4\n",
      "Arnold\n",
      "2\n",
      "2\n",
      "3\n"
     ]
    }
   ],
   "source": [
    "Table = [['Bob', 5, 3, 5, 2],\n",
    "         ['Kristofer',5,5,5,4],\n",
    "         [\"Arnold\",2,2,3]\n",
    "         ]\n",
    "for i in range(len(Table)):\n",
    "    for j in range(len(Table[i])):\n",
    "        print(Table[i][j])"
   ]
  },
  {
   "cell_type": "code",
   "execution_count": 184,
   "metadata": {},
   "outputs": [
    {
     "data": {
      "text/plain": [
       "[[0, 1], [0, 1], [0, 1]]"
      ]
     },
     "execution_count": 184,
     "metadata": {},
     "output_type": "execute_result"
    }
   ],
   "source": [
    "Table2 = [[j for j in range(2)]for i in range(3)]\n",
    "Table2"
   ]
  },
  {
   "cell_type": "code",
   "execution_count": 185,
   "metadata": {},
   "outputs": [
    {
     "ename": "NameError",
     "evalue": "name 'studScores' is not defined",
     "output_type": "error",
     "traceback": [
      "\u001b[1;31m---------------------------------------------------------------------------\u001b[0m",
      "\u001b[1;31mNameError\u001b[0m                                 Traceback (most recent call last)",
      "Cell \u001b[1;32mIn[185], line 7\u001b[0m\n\u001b[0;32m      1\u001b[0m Table3 \u001b[38;5;241m=\u001b[39m [\n\u001b[0;32m      2\u001b[0m     [\u001b[38;5;124m\"\u001b[39m\u001b[38;5;124mBob\u001b[39m\u001b[38;5;124m\"\u001b[39m,\u001b[38;5;241m11\u001b[39m,\u001b[38;5;241m8\u001b[39m,\u001b[38;5;241m10\u001b[39m,\u001b[38;5;241m12\u001b[39m],\n\u001b[0;32m      3\u001b[0m     [\u001b[38;5;124m\"\u001b[39m\u001b[38;5;124mJane\u001b[39m\u001b[38;5;124m\"\u001b[39m,\u001b[38;5;241m12\u001b[39m,\u001b[38;5;241m11\u001b[39m,\u001b[38;5;241m11\u001b[39m,\u001b[38;5;241m11\u001b[39m],\n\u001b[0;32m      4\u001b[0m     [\u001b[38;5;124m\"\u001b[39m\u001b[38;5;124mKate\u001b[39m\u001b[38;5;124m\"\u001b[39m,\u001b[38;5;241m7\u001b[39m,\u001b[38;5;241m8\u001b[39m,\u001b[38;5;241m9\u001b[39m,\u001b[38;5;241m9\u001b[39m],\n\u001b[0;32m      5\u001b[0m ]\n\u001b[1;32m----> 7\u001b[0m \u001b[38;5;28;01mfor\u001b[39;00m student \u001b[38;5;129;01min\u001b[39;00m \u001b[43mstudScores\u001b[49m:\n\u001b[0;32m      8\u001b[0m     \u001b[38;5;28mprint\u001b[39m\u001b[38;5;241m*\u001b[39mstudent[\u001b[38;5;241m0\u001b[39m],\u001b[38;5;28mmax\u001b[39m(student[\u001b[38;5;241m1\u001b[39m:])\n",
      "\u001b[1;31mNameError\u001b[0m: name 'studScores' is not defined"
     ]
    }
   ],
   "source": [
    "Table3 = [\n",
    "    [\"Bob\",11,8,10,12],\n",
    "    [\"Jane\",12,11,11,11],\n",
    "    [\"Kate\",7,8,9,9],\n",
    "]\n",
    "\n",
    "for student in studScores:\n",
    "    print*student[0],max(student[1:])"
   ]
  },
  {
   "cell_type": "code",
   "execution_count": 23,
   "metadata": {},
   "outputs": [
    {
     "data": {
      "text/plain": [
       "[-55, -37, -81, -79, -31, -92, -20, -11, -61, -85]"
      ]
     },
     "execution_count": 23,
     "metadata": {},
     "output_type": "execute_result"
    }
   ],
   "source": [
    "# Решение задач №1\n",
    "\n",
    "import random\n",
    "list2 = []\n",
    "\n",
    "for _ in range(1,11):\n",
    "    list2.append(random.randint(-100, 100))\n",
    "\n",
    "list2"
   ]
  },
  {
   "cell_type": "code",
   "execution_count": 102,
   "metadata": {},
   "outputs": [
    {
     "data": {
      "text/plain": [
       "[-97, -14, 0, 70, -25, 6, 95, 94, 36, 50]"
      ]
     },
     "execution_count": 102,
     "metadata": {},
     "output_type": "execute_result"
    }
   ],
   "source": [
    "list11 =[\n",
    "     random.randint(-100,100) for _ in range(1,11)\n",
    "     ]\n",
    "list11"
   ]
  },
  {
   "cell_type": "code",
   "execution_count": 55,
   "metadata": {},
   "outputs": [
    {
     "data": {
      "text/plain": [
       "-236"
      ]
     },
     "execution_count": 55,
     "metadata": {},
     "output_type": "execute_result"
    }
   ],
   "source": [
    "list3 = []\n",
    "\n",
    "summ = 0 \n",
    "\n",
    "for i in list1:\n",
    "    if i < 0:\n",
    "       summ += i \n",
    "summ"
   ]
  },
  {
   "cell_type": "code",
   "execution_count": 71,
   "metadata": {},
   "outputs": [
    {
     "data": {
      "text/plain": [
       "-110"
      ]
     },
     "execution_count": 71,
     "metadata": {},
     "output_type": "execute_result"
    }
   ],
   "source": [
    "# list4 = []\n",
    "gang_benzo = 0\n",
    "for i in list1:\n",
    "    if i % 2 == 0:\n",
    "        gang_benzo += i\n",
    "gang_benzo"
   ]
  },
  {
   "cell_type": "code",
   "execution_count": 76,
   "metadata": {},
   "outputs": [
    {
     "data": {
      "text/plain": [
       "9"
      ]
     },
     "execution_count": 76,
     "metadata": {},
     "output_type": "execute_result"
    }
   ],
   "source": [
    "goddamn = 0\n",
    "for i in list1:\n",
    "    if i in list1:\n",
    "        if i != 0:\n",
    "            goddamn += i\n",
    "goddamn"
   ]
  },
  {
   "cell_type": "code",
   "execution_count": 92,
   "metadata": {},
   "outputs": [
    {
     "data": {
      "text/plain": [
       "-36"
      ]
     },
     "execution_count": 92,
     "metadata": {},
     "output_type": "execute_result"
    }
   ],
   "source": [
    "hoodrich = 1\n",
    "for i in range(4):#range(len(list)):\n",
    "    if i % 3 == 0:\n",
    "        hoodrich *= list1[i]\n",
    "        break\n",
    "hoodrich"
   ]
  },
  {
   "cell_type": "code",
   "execution_count": 105,
   "metadata": {},
   "outputs": [
    {
     "data": {
      "text/plain": [
       "[-97, -25, -14, 0, 6, 36, 50, 70, 94, 95]"
      ]
     },
     "execution_count": 105,
     "metadata": {},
     "output_type": "execute_result"
    }
   ],
   "source": [
    "swag = list1.copy()\n",
    "\n",
    "swag  = sorted(list1)\n",
    "\n",
    "swag\n"
   ]
  },
  {
   "cell_type": "code",
   "execution_count": 106,
   "metadata": {},
   "outputs": [
    {
     "ename": "TypeError",
     "evalue": "list.remove() takes exactly one argument (0 given)",
     "output_type": "error",
     "traceback": [
      "\u001b[1;31m---------------------------------------------------------------------------\u001b[0m",
      "\u001b[1;31mTypeError\u001b[0m                                 Traceback (most recent call last)",
      "Cell \u001b[1;32mIn[106], line 1\u001b[0m\n\u001b[1;32m----> 1\u001b[0m \u001b[38;5;28;43mlist\u001b[39;49m\u001b[38;5;241;43m.\u001b[39;49m\u001b[43mremove\u001b[49m\u001b[43m(\u001b[49m\u001b[43m)\u001b[49m\n\u001b[0;32m      3\u001b[0m list1\n",
      "\u001b[1;31mTypeError\u001b[0m: list.remove() takes exactly one argument (0 given)"
     ]
    }
   ],
   "source": [
    "list1.remove()\n",
    "\n",
    "list1.pop(-1)\n",
    "\n",
    "list"
   ]
  },
  {
   "cell_type": "code",
   "execution_count": 107,
   "metadata": {},
   "outputs": [
    {
     "name": "stdout",
     "output_type": "stream",
     "text": [
      "list1 = [16, 78, 31, 60, -31, 18, -42, 26, -22, 90]\n",
      "list2 = [-42, -31, -22, 16, 18, 26, 31, 60, 78, 90]\n",
      "mult = [-31, -22, 16, 18, 26, 31, 60, 78]\n",
      "multiply is 740896865280\n",
      "list1 = [16, 78, 31, 60, -31, 18, -42, 26, -22, 90]\n"
     ]
    }
   ],
   "source": [
    "import random \n",
    " \n",
    "list1 = [] \n",
    " \n",
    "for i in range(1, 11):  # (можно писать просто 10, оно бы посчитало от 0 до 9, что так же было бь верно) создание списка через цикл \n",
    "    list1.append(random.randint(-100, 100)) \n",
    "    i+=1 \n",
    "list1"
   ]
  },
  {
   "cell_type": "code",
   "execution_count": 108,
   "metadata": {},
   "outputs": [
    {
     "data": {
      "text/plain": [
       "0"
      ]
     },
     "execution_count": 108,
     "metadata": {},
     "output_type": "execute_result"
    }
   ],
   "source": [
    "sum1 = 1\n",
    "for i in list1:\n",
    "    sum1 *= i\n",
    "\n",
    "sum1\n"
   ]
  },
  {
   "cell_type": "code",
   "execution_count": null,
   "metadata": {},
   "outputs": [],
   "source": [
    "m = input('input ur text:').replace('','').lower()\n",
    "\n",
    "if m[0:] == m[::-1]:\n",
    "    print('palindrom')\n",
    "else:\n",
    "    print('its NOT a palindrom')"
   ]
  },
  {
   "cell_type": "code",
   "execution_count": 24,
   "metadata": {},
   "outputs": [
    {
     "name": "stdout",
     "output_type": "stream",
     "text": [
      "12\n"
     ]
    }
   ],
   "source": [
    "while True:\n",
    "    num1 = input('Введите первое число:')\n",
    "    num2 = input('Ввдеите второе число:')\n",
    "    print(num1 + num2)\n",
    "    w = input('Введите \\'y\\' или \\'Y\\' если хотите завершить цикл')\n",
    "    if w == 'y' or w == 'Y':\n",
    "        break\n",
    "\n",
    "\n"
   ]
  },
  {
   "cell_type": "code",
   "execution_count": null,
   "metadata": {},
   "outputs": [],
   "source": [
    "for i  in range(3):\n",
    "    if i == 0:\n",
    "        print('*******')\n",
    "    elif i == 1:\n",
    "        print(' *   * ')\n",
    "    else:\n",
    "        print('*******')\n"
   ]
  },
  {
   "cell_type": "code",
   "execution_count": 29,
   "metadata": {},
   "outputs": [
    {
     "name": "stdout",
     "output_type": "stream",
     "text": [
      "******* ** ** * ** ** ******* \n",
      "******* ** ** * ** ** ******* \n",
      "******* ** ** * ** ** ******* \n",
      "******* ** ** * ** ** ******* \n",
      "******* ** ** * ** ** ******* \n",
      "******* ** ** * ** ** ******* \n",
      "******* ** ** * ** ** ******* \n"
     ]
    }
   ],
   "source": [
    "n = 7\n",
    "for i in range(n):\n",
    "    for i in range(0,n):\n",
    "        for j in range(0,n):\n",
    "            if(i == 0 or i == n-1 or j==i or j == n-i-1): print(\"*\", end=\"\")\n",
    "        else:print(\" \",end =\"\")\n",
    "    print()"
   ]
  },
  {
   "cell_type": "code",
   "execution_count": 31,
   "metadata": {},
   "outputs": [
    {
     "name": "stdout",
     "output_type": "stream",
     "text": [
      "♥\n"
     ]
    }
   ],
   "source": [
    "n = 5\n",
    "for i in range(0,n):\n",
    "    for j in range(0,n):\n",
    "        if(i % 2 == 0):\n",
    "            print('*')\n",
    "        else"
   ]
  },
  {
   "cell_type": "code",
   "execution_count": 34,
   "metadata": {},
   "outputs": [
    {
     "name": "stdout",
     "output_type": "stream",
     "text": [
      "у\n"
     ]
    }
   ],
   "source": [
    "letters = 'МиМиМаМаМу'\n",
    "for letter in letters:\n",
    "    if letter.upper() == letters:\n",
    "        letters.replace(letter,'')\n",
    "print(letter)\n",
    "    "
   ]
  },
  {
   "cell_type": "code",
   "execution_count": 35,
   "metadata": {},
   "outputs": [
    {
     "name": "stdout",
     "output_type": "stream",
     "text": [
      "['М', 'и', 'М', 'и', 'М', 'а', 'М', 'а', 'М', 'у']\n"
     ]
    }
   ],
   "source": [
    "list1 = []\n",
    "for letter in letters:\n",
    "    if letter.islower():\n",
    "        list1.append(letter)\n",
    "\n",
    "letters1 = ''\n",
    "\n",
    "for i in list1:\n",
    "    letters1 += i\n",
    "\n",
    "print(list1)"
   ]
  },
  {
   "cell_type": "code",
   "execution_count": 36,
   "metadata": {},
   "outputs": [
    {
     "data": {
      "text/plain": [
       "[1, 29, 425713]"
      ]
     },
     "execution_count": 36,
     "metadata": {},
     "output_type": "execute_result"
    }
   ],
   "source": [
    "num = 12345677\n",
    "list1 =[]\n",
    "\n",
    "for i in range(1, num):\n",
    "    if num % i == 0:\n",
    "        list1.append(i)\n",
    "list1\n",
    "\n"
   ]
  },
  {
   "cell_type": "code",
   "execution_count": 5,
   "metadata": {},
   "outputs": [],
   "source": [
    "import random\n",
    "\n",
    "list1 = [random.randint(1,10)for x in range(10)]\n",
    "\n",
    "list2 = [random.randint(1,10)for x in range(10)]\n",
    "\n",
    "list3 =list1 + list2\n",
    "\n",
    "list4 = set(list3)\n",
    "\n",
    "list5 = []\n",
    "\n",
    "for i in list1:\n",
    "    if i in list2:\n",
    "        list5.append(i)\n",
    "\n",
    "list5 = []\n",
    "\n",
    "for num in list1:\n",
    "    if num in list2:\n",
    "        list5.append(num)\n",
    "\n",
    "list6 = set(list1) | set(list2)\n",
    "\n",
    "list7 = list(min(list1)), max(list1),min(list2), max(list2)"
   ]
  },
  {
   "cell_type": "code",
   "execution_count": 10,
   "metadata": {},
   "outputs": [],
   "source": [
    "def test_func(word):\n",
    "    print(word, end=\"\")\n",
    "    print(\"!\")\n",
    "\n",
    "    word = \"sdf\"\n",
    "\n",
    "    test_func(\"Hi\")\n",
    "    test_func(5)\n",
    "    test_func(6.7)\n",
    "    #pass #когда мы вызовем эту функцию из за pass ничего не произойдет\n"
   ]
  },
  {
   "cell_type": "code",
   "execution_count": 11,
   "metadata": {},
   "outputs": [
    {
     "name": "stdout",
     "output_type": "stream",
     "text": [
      "Result: 12.5\n",
      "Result: Hi\n"
     ]
    }
   ],
   "source": [
    "def summa(a, b):\n",
    "    res = a + b\n",
    "    print(\"Result:\",res)\n",
    "\n",
    "summa(5.5, 7)\n",
    "summa(\"H\", \"i\")"
   ]
  },
  {
   "cell_type": "code",
   "execution_count": 18,
   "metadata": {},
   "outputs": [
    {
     "name": "stdout",
     "output_type": "stream",
     "text": [
      "13.0\n"
     ]
    }
   ],
   "source": [
    "def summa1(a, b):\n",
    "    return a + b\n",
    "\n",
    "\n",
    "res = summa1(5.5,7.5)\n",
    "print(res)"
   ]
  },
  {
   "cell_type": "code",
   "execution_count": null,
   "metadata": {},
   "outputs": [],
   "source": [
    "def minimal(l):\n",
    "    min_num = l[0]\n",
    "    for el in l:\n",
    "        if el < min_number:\n",
    "            min_number = el\n",
    "\n",
    "print(min_num)\n",
    "\n",
    "\n",
    "\n",
    "nums1 = [5,7,9,4]\n",
    "min_num = minimal(nums1)\n",
    "\n",
    "print(min_num)\n",
    "\n"
   ]
  },
  {
   "cell_type": "code",
   "execution_count": null,
   "metadata": {},
   "outputs": [],
   "source": [
    "func = lambda x, y: x * y\n",
    "res = func(5, 2)\n",
    "print(res)\n"
   ]
  },
  {
   "cell_type": "code",
   "execution_count": null,
   "metadata": {},
   "outputs": [],
   "source": [
    "def task1():\n",
    "    print(\"\\\"Dont let the noise of others' opinions\\n\",\"drown out your own inner voice.\\\"\\n\",f\"{}\""
   ]
  },
  {
   "cell_type": "code",
   "execution_count": 20,
   "metadata": {},
   "outputs": [
    {
     "data": {
      "text/plain": [
       "[5, 7, 9]"
      ]
     },
     "execution_count": 20,
     "metadata": {},
     "output_type": "execute_result"
    }
   ],
   "source": [
    "def odd_numbers(a,b):\n",
    "    l = []\n",
    "    for i in range(a + 1,b):\n",
    "        if i % 2 != 0:\n",
    "            l.append(i)\n",
    "    return l\n",
    "\n",
    "odd_numbers(3,10)"
   ]
  },
  {
   "cell_type": "code",
   "execution_count": 29,
   "metadata": {},
   "outputs": [
    {
     "name": "stdout",
     "output_type": "stream",
     "text": [
      "♥\n",
      "♥\n",
      "♥\n",
      "♥\n",
      "♥\n",
      "♥\n",
      "♥\n",
      "♥\n",
      "\n"
     ]
    }
   ],
   "source": [
    "def line(len, direction,symbol):\n",
    "    if direction == \"horizontal\":\n",
    "        print(symbol * len)\n",
    "    elif direction == \"vertical\":\n",
    "        print(f'{symbol}\\n' * len)\n",
    "    else:\n",
    "        print(\"Wrong direction\")\n",
    "\n",
    "\n",
    "\n",
    "line(8, 'vertical',\"♥\")"
   ]
  },
  {
   "cell_type": "code",
   "execution_count": 8,
   "metadata": {},
   "outputs": [
    {
     "data": {
      "text/plain": [
       "78"
      ]
     },
     "execution_count": 8,
     "metadata": {},
     "output_type": "execute_result"
    }
   ],
   "source": [
    "def maximum(a, b, c, d=1000):\n",
    "    list1 = list((a,b,c,d))\n",
    "    #print(max(list1))\n",
    "    return max(list1)\n",
    "   \n",
    "\n",
    "max_num = maximum(2,4,78, 5)\n",
    "\n",
    "max_num"
   ]
  },
  {
   "cell_type": "code",
   "execution_count": 13,
   "metadata": {},
   "outputs": [
    {
     "data": {
      "text/plain": [
       "3475"
      ]
     },
     "execution_count": 13,
     "metadata": {},
     "output_type": "execute_result"
    }
   ],
   "source": [
    "def range_sum(a,b):\n",
    "    c = 0\n",
    "    for i in range(a,b+1):\n",
    "        c += i\n",
    "    return c\n",
    "\n",
    "\n",
    "\n",
    "range_sum(45, 94)"
   ]
  },
  {
   "cell_type": "code",
   "execution_count": 25,
   "metadata": {},
   "outputs": [
    {
     "name": "stdout",
     "output_type": "stream",
     "text": [
      "Is number simple False, first delitel (except 1) 2\n"
     ]
    }
   ],
   "source": [
    "def is_simple(num):\n",
    "    delitel = num\n",
    "    for i in range(2,num):\n",
    "        if num % i == 0:\n",
    "            delitel = i\n",
    "            return False, delitel\n",
    "    \n",
    "    return True, delitel\n",
    "\n",
    "\n",
    "simple, delitel = is_simple(10)\n",
    "\n",
    "print(f'Is number simple {simple}, first delitel (except 1) {delitel}')"
   ]
  },
  {
   "cell_type": "code",
   "execution_count": 26,
   "metadata": {},
   "outputs": [
    {
     "ename": "TypeError",
     "evalue": "'int' object is not subscriptable",
     "output_type": "error",
     "traceback": [
      "\u001b[1;31m---------------------------------------------------------------------------\u001b[0m",
      "\u001b[1;31mTypeError\u001b[0m                                 Traceback (most recent call last)",
      "Cell \u001b[1;32mIn[26], line 10\u001b[0m\n\u001b[0;32m      3\u001b[0m     list1 \u001b[38;5;241m=\u001b[39m [num[:\u001b[38;5;241m2\u001b[39m]]\n\u001b[0;32m      4\u001b[0m     list2 \u001b[38;5;241m=\u001b[39m [num[\u001b[38;5;241m-\u001b[39m\u001b[38;5;241m3\u001b[39m:]]\n\u001b[1;32m---> 10\u001b[0m \u001b[43mlucky_number\u001b[49m\u001b[43m(\u001b[49m\u001b[38;5;241;43m321645\u001b[39;49m\u001b[43m)\u001b[49m\n\u001b[0;32m     11\u001b[0m lucky_number(\u001b[38;5;241m159951\u001b[39m)\n",
      "Cell \u001b[1;32mIn[26], line 3\u001b[0m, in \u001b[0;36mlucky_number\u001b[1;34m(num)\u001b[0m\n\u001b[0;32m      1\u001b[0m \u001b[38;5;28;01mdef\u001b[39;00m \u001b[38;5;21mlucky_number\u001b[39m(num):\n\u001b[0;32m      2\u001b[0m     mun_str \u001b[38;5;241m=\u001b[39m \u001b[38;5;28mstr\u001b[39m(num)\n\u001b[1;32m----> 3\u001b[0m     list1 \u001b[38;5;241m=\u001b[39m [\u001b[43mnum\u001b[49m\u001b[43m[\u001b[49m\u001b[43m:\u001b[49m\u001b[38;5;241;43m2\u001b[39;49m\u001b[43m]\u001b[49m]\n\u001b[0;32m      4\u001b[0m     list2 \u001b[38;5;241m=\u001b[39m [num[\u001b[38;5;241m-\u001b[39m\u001b[38;5;241m3\u001b[39m:]]\n",
      "\u001b[1;31mTypeError\u001b[0m: 'int' object is not subscriptable"
     ]
    }
   ],
   "source": [
    "def lucky_number(num):\n",
    "    num_str = str(num)\n",
    "    list1 = [num_str[:3]]\n",
    "    list2 = [num_str[-3:]]\n",
    "\n",
    "    \n",
    "\n",
    "\n",
    "\n",
    "lucky_number(321645)\n",
    "lucky_number(159951)\n"
   ]
  },
  {
   "cell_type": "code",
   "execution_count": 30,
   "metadata": {},
   "outputs": [
    {
     "name": "stdout",
     "output_type": "stream",
     "text": [
      "['123'] ['456']\n"
     ]
    }
   ],
   "source": [
    "num = 123456\n",
    "num_str = str(num)\n",
    "list_1  = list(num_str)\n",
    "list_first_three = [int(list_1[0]),\n",
    "                    int(list_1[1]),\n",
    "                    int(list_1[2])]\n",
    "list_second_three = [int(list_1[3]),\n",
    "                    int(list_1[4]),\n",
    "                    int(list_1[5])]\n",
    "if sum(list_first_three) == sum(list_second_three):\n",
    "    return True\n",
    "return False\n",
    "\n",
    "\n"
   ]
  },
  {
   "cell_type": "code",
   "execution_count": 32,
   "metadata": {},
   "outputs": [
    {
     "data": {
      "text/plain": [
       "5"
      ]
     },
     "execution_count": 32,
     "metadata": {},
     "output_type": "execute_result"
    }
   ],
   "source": [
    "def func1():\n",
    "    param = 4\n",
    "\n",
    "    def inner(param = param):\n",
    "        param += 1\n",
    "        return param\n",
    "\n",
    "    param = inner()\n",
    "    return param\n",
    "\n",
    "func1()"
   ]
  },
  {
   "cell_type": "code",
   "execution_count": null,
   "metadata": {},
   "outputs": [],
   "source": [
    "def func2():\n",
    "    param = 4\n",
    "\n",
    "    def inner(var):\n",
    "        var += 1\n",
    "\n",
    "    inner(param)\n",
    "    return param\n",
    "\n",
    "func(2)"
   ]
  },
  {
   "cell_type": "code",
   "execution_count": null,
   "metadata": {},
   "outputs": [],
   "source": [
    "def three_params(var1=None, var2=None,var3=None)\n",
    "     list1 = [var1, var2, var3]\n",
    "\n",
    "     "
   ]
  },
  {
   "cell_type": "code",
   "execution_count": null,
   "metadata": {},
   "outputs": [],
   "source": [
    "#модули"
   ]
  },
  {
   "cell_type": "code",
   "execution_count": 11,
   "metadata": {},
   "outputs": [],
   "source": [
    "import math # - модуль\n",
    "#при повторениии 2х и более модулей,по pep-8 лучше писать раздельно"
   ]
  },
  {
   "cell_type": "code",
   "execution_count": null,
   "metadata": {},
   "outputs": [],
   "source": [
    "#пространство имен = пространство в котором существуют некоторые имана,и имена не конфликтуют с друг с другом"
   ]
  },
  {
   "cell_type": "code",
   "execution_count": 1,
   "metadata": {},
   "outputs": [
    {
     "data": {
      "text/plain": [
       "['2', '1', '3', '2', '1']"
      ]
     },
     "execution_count": 1,
     "metadata": {},
     "output_type": "execute_result"
    }
   ],
   "source": [
    "a = '21321'\n",
    "list(a)"
   ]
  },
  {
   "cell_type": "code",
   "execution_count": 2,
   "metadata": {},
   "outputs": [],
   "source": [
    "# list = 344324\n",
    "# list(a) - не работает"
   ]
  },
  {
   "cell_type": "code",
   "execution_count": 3,
   "metadata": {},
   "outputs": [],
   "source": [
    "from math import sin\n",
    "# from модуль import функции синус"
   ]
  },
  {
   "cell_type": "code",
   "execution_count": null,
   "metadata": {},
   "outputs": [],
   "source": [
    "import math\n",
    "import sys\n",
    "import numpy as np\n",
    "import pandas as pd\n",
    "import matplotlib.pyplot as plt"
   ]
  },
  {
   "cell_type": "code",
   "execution_count": 2,
   "metadata": {},
   "outputs": [
    {
     "data": {
      "text/plain": [
       "1.2246467991473532e-16"
      ]
     },
     "execution_count": 2,
     "metadata": {},
     "output_type": "execute_result"
    }
   ],
   "source": [
    "import math\n",
    "import sys\n",
    "math.sin(math.pi)"
   ]
  },
  {
   "cell_type": "code",
   "execution_count": 4,
   "metadata": {},
   "outputs": [],
   "source": [
    "from math import sin,pi #переменная pi"
   ]
  },
  {
   "cell_type": "code",
   "execution_count": 5,
   "metadata": {},
   "outputs": [
    {
     "data": {
      "text/plain": [
       "1.2246467991473532e-16"
      ]
     },
     "execution_count": 5,
     "metadata": {},
     "output_type": "execute_result"
    }
   ],
   "source": [
    "# sin(pi)\n",
    "\n",
    "m.sin(m.pi)"
   ]
  },
  {
   "cell_type": "code",
   "execution_count": null,
   "metadata": {},
   "outputs": [],
   "source": [
    "from math import sin as my_sin,pi as PI"
   ]
  },
  {
   "cell_type": "code",
   "execution_count": null,
   "metadata": {},
   "outputs": [],
   "source": [
    "my_sin(PI)"
   ]
  },
  {
   "cell_type": "code",
   "execution_count": 7,
   "metadata": {},
   "outputs": [],
   "source": [
    "import math#как нам понять что содержиться внутри math?-- dir(math) or math. и листать смотреть выбрать что нам надо также help(math)"
   ]
  },
  {
   "cell_type": "code",
   "execution_count": null,
   "metadata": {},
   "outputs": [],
   "source": [
    "# import math #as m псеводним после as(преименовали math под псевдоним m)"
   ]
  },
  {
   "cell_type": "code",
   "execution_count": null,
   "metadata": {},
   "outputs": [],
   "source": [
    "#from math import * - плохой вирант рано или поздно чтото сломает"
   ]
  },
  {
   "cell_type": "code",
   "execution_count": 17,
   "metadata": {},
   "outputs": [],
   "source": [
    "import math"
   ]
  },
  {
   "cell_type": "code",
   "execution_count": 12,
   "metadata": {},
   "outputs": [
    {
     "name": "stdout",
     "output_type": "stream",
     "text": [
      "True\n",
      "True\n",
      "True\n",
      "True\n"
     ]
    }
   ],
   "source": [
    "from math import pi,radians,degrees,sin,cos,tan, asin\n",
    "\n",
    "ad = 90\n",
    "ar = radians(ad)\n",
    "ad = degrees(ar)\n",
    "\n",
    "print(ad == 90.)\n",
    "print(ar == pi / 2.)\n",
    "print(sin(ar) / cos(ar) == tan(ar))\n",
    "print(asin(sin(ar))== ar)"
   ]
  },
  {
   "cell_type": "code",
   "execution_count": 13,
   "metadata": {},
   "outputs": [
    {
     "data": {
      "text/plain": [
       "1.5707963267948966"
      ]
     },
     "execution_count": 13,
     "metadata": {},
     "output_type": "execute_result"
    }
   ],
   "source": [
    "radians(90)"
   ]
  },
  {
   "cell_type": "code",
   "execution_count": 15,
   "metadata": {},
   "outputs": [
    {
     "data": {
      "text/plain": [
       "1"
      ]
     },
     "execution_count": 15,
     "metadata": {},
     "output_type": "execute_result"
    }
   ],
   "source": [
    "import math\n",
    "\n",
    "math.ceil(1.1)\n",
    "math.floor(1.4)"
   ]
  },
  {
   "cell_type": "code",
   "execution_count": 20,
   "metadata": {},
   "outputs": [
    {
     "data": {
      "text/plain": [
       "0.8444218515250481"
      ]
     },
     "execution_count": 20,
     "metadata": {},
     "output_type": "execute_result"
    }
   ],
   "source": [
    "from random import random, seed\n",
    "\n",
    "seed(0)\n",
    "\n",
    "random()"
   ]
  },
  {
   "cell_type": "code",
   "execution_count": null,
   "metadata": {},
   "outputs": [],
   "source": [
    "# randrange(10) - генерирует рандомной число от 0 до х (х - введенное число)\n",
    "# randrange(2, 5) генерирует от х до у"
   ]
  },
  {
   "cell_type": "code",
   "execution_count": 21,
   "metadata": {},
   "outputs": [
    {
     "data": {
      "text/plain": [
       "'Windows-10-10.0.19045-SP0'"
      ]
     },
     "execution_count": 21,
     "metadata": {},
     "output_type": "execute_result"
    }
   ],
   "source": [
    "from platform import platform\n",
    "\n",
    "platform()"
   ]
  },
  {
   "cell_type": "code",
   "execution_count": 22,
   "metadata": {},
   "outputs": [
    {
     "data": {
      "text/plain": [
       "'AMD64'"
      ]
     },
     "execution_count": 22,
     "metadata": {},
     "output_type": "execute_result"
    }
   ],
   "source": [
    "from platform import machine\n",
    "\n",
    "machine()"
   ]
  },
  {
   "cell_type": "code",
   "execution_count": 24,
   "metadata": {},
   "outputs": [],
   "source": [
    "task_list = []\n",
    "def add_task(task):\n",
    "    task_list.append(task)\n",
    "\n",
    "def mark_complete(task):\n",
    "    if task in task_list:\n",
    "        task_list.remove(task)\n",
    "        task_list.append('[ok]',task)\n",
    "    else:\n",
    "        return'Задачи нет в списке'\n",
    "    \n",
    "def view_list():\n",
    "    return task_list\n",
    "\n",
    "def clear_list():\n",
    "    return task_list.clear\n",
    "    "
   ]
  },
  {
   "cell_type": "code",
   "execution_count": 25,
   "metadata": {},
   "outputs": [
    {
     "ename": "AttributeError",
     "evalue": "'list' object has no attribute 'mark_complete'",
     "output_type": "error",
     "traceback": [
      "\u001b[1;31m---------------------------------------------------------------------------\u001b[0m",
      "\u001b[1;31mAttributeError\u001b[0m                            Traceback (most recent call last)",
      "Cell \u001b[1;32mIn[25], line 9\u001b[0m\n\u001b[0;32m      7\u001b[0m     task_list\u001b[38;5;241m.\u001b[39madd_task(\u001b[38;5;28minput\u001b[39m(\u001b[38;5;124m'\u001b[39m\u001b[38;5;124mВведите задачу:\u001b[39m\u001b[38;5;124m'\u001b[39m))\n\u001b[0;32m      8\u001b[0m \u001b[38;5;28;01melif\u001b[39;00m ask \u001b[38;5;241m==\u001b[39m \u001b[38;5;124m'\u001b[39m\u001b[38;5;124m2\u001b[39m\u001b[38;5;124m'\u001b[39m:\n\u001b[1;32m----> 9\u001b[0m     \u001b[43mtask_list\u001b[49m\u001b[38;5;241;43m.\u001b[39;49m\u001b[43mmark_complete\u001b[49m(\u001b[38;5;28minput\u001b[39m(\u001b[38;5;124m'\u001b[39m\u001b[38;5;124mВведите выполненную задачу\u001b[39m\u001b[38;5;124m'\u001b[39m))\n\u001b[0;32m     10\u001b[0m \u001b[38;5;28;01melif\u001b[39;00m ask \u001b[38;5;241m==\u001b[39m\u001b[38;5;124m'\u001b[39m\u001b[38;5;124m3\u001b[39m\u001b[38;5;124m'\u001b[39m:\n\u001b[0;32m     11\u001b[0m     task_list\u001b[38;5;241m.\u001b[39mclear_list()\n",
      "\u001b[1;31mAttributeError\u001b[0m: 'list' object has no attribute 'mark_complete'"
     ]
    }
   ],
   "source": [
    "# \n",
    "\n",
    "\n",
    "ask = input('Введите 1- добавить,2 - выполнить,3 - очистить список,показать список')\n",
    "\n",
    "if ask =='1':\n",
    "    task_list.add_task(input('Введите задачу:'))\n",
    "elif ask == '2':\n",
    "    task_list.mark_complete(input('Введите выполненную задачу'))\n",
    "elif ask =='3':\n",
    "    task_list.clear_list()\n",
    "elif ask =='4':\n",
    "    task_list.view_list()\n",
    "else:\n",
    "    print('ты не туда попал')\n",
    "\n"
   ]
  },
  {
   "cell_type": "code",
   "execution_count": null,
   "metadata": {},
   "outputs": [],
   "source": [
    "#функции ,аргументы именованные "
   ]
  },
  {
   "cell_type": "code",
   "execution_count": 1,
   "metadata": {},
   "outputs": [
    {
     "name": "stdout",
     "output_type": "stream",
     "text": [
      "a = 1, b =3, c =2\n",
      "6\n"
     ]
    }
   ],
   "source": [
    "def get_V(a ,b,c):\n",
    "    print(f\"a = {a}, b ={b}, c ={c}\")\n",
    "    return a * b * c\n",
    "\n",
    "v = get_V(1,c=2,b=3)\n",
    "print(v)"
   ]
  },
  {
   "cell_type": "code",
   "execution_count": null,
   "metadata": {},
   "outputs": [],
   "source": [
    "def get_V(a ,b,c,verbose=True): #для а б с -фактические параметры Verbose - формальный параметр сразу принмает значение,для удобства,такжe verbose- подробнее,расширенное отвечает за вывод дополнительной информации в консоль\n",
    "    print(f\"a = {a}, b ={b}, c ={c}\")\n",
    "    return a * b * c\n",
    "\n",
    "v = get_V(1,c=2,b=3)#сначала позиционные,а потом именованные\n",
    "print(v)"
   ]
  },
  {
   "cell_type": "code",
   "execution_count": 4,
   "metadata": {},
   "outputs": [
    {
     "name": "stdout",
     "output_type": "stream",
     "text": [
      "False\n"
     ]
    }
   ],
   "source": [
    "def cmp_str(s1,s2, reg =False,trim=True):\n",
    "    if reg:\n",
    "        s1 = s1.lower()#в нижний регистр\n",
    "        s2 = s2.lower()#юез учета регистра\n",
    "    if trim:\n",
    "        s1 = s1.strip()\n",
    "        s2 = s2.strip()\n",
    "\n",
    "    return s1 == s2\n",
    "print(cmp_str(\"Python \",\"Python\"))"
   ]
  },
  {
   "cell_type": "code",
   "execution_count": 186,
   "metadata": {},
   "outputs": [
    {
     "name": "stdout",
     "output_type": "stream",
     "text": [
      "[1, 2]\n"
     ]
    }
   ],
   "source": [
    "def add_value(value,lst=[]):\n",
    "    lst.append(value)\n",
    "    return lst\n",
    "    \n",
    "\n",
    "l = add_value(1)\n",
    "l = add_value(2)\n",
    "print(l)"
   ]
  },
  {
   "cell_type": "code",
   "execution_count": 187,
   "metadata": {},
   "outputs": [],
   "source": [
    "def addd_value(vall,lsst = []):#None - ничего позиционные аргументы до имнованных,именованные их можем вызыват по их названию но уже тогда когда мы хотим их до позиционных или между то позиционнка поменяется,именованные до позицинноых не поставишь и не сможешь вызвать\n",
    "    lsst.append(vall)\n",
    "    return lsst\n"
   ]
  },
  {
   "cell_type": "code",
   "execution_count": 188,
   "metadata": {},
   "outputs": [],
   "source": [
    "l = addd_value(1)"
   ]
  },
  {
   "cell_type": "code",
   "execution_count": 189,
   "metadata": {},
   "outputs": [],
   "source": [
    "l = addd_value(2)"
   ]
  },
  {
   "cell_type": "code",
   "execution_count": 190,
   "metadata": {},
   "outputs": [
    {
     "name": "stdout",
     "output_type": "stream",
     "text": [
      "[1, 2]\n"
     ]
    }
   ],
   "source": [
    "print(l)"
   ]
  },
  {
   "cell_type": "code",
   "execution_count": 193,
   "metadata": {},
   "outputs": [
    {
     "name": "stdout",
     "output_type": "stream",
     "text": [
      "[1, 2]\n"
     ]
    }
   ],
   "source": [
    "def addd_value(vall,lsst = None):#None - ничего позиционные аргшументы формальные параметры как работают формальные с разными типами данных\n",
    "    if lsst is None:\n",
    "        lsst = []\n",
    "    \n",
    "    lsst.append(vall)\n",
    "    return lsst\n",
    "\n",
    "l = addd_value(1)\n",
    "l = addd_value(2, l)\n",
    "print(l)"
   ]
  },
  {
   "cell_type": "code",
   "execution_count": 194,
   "metadata": {},
   "outputs": [],
   "source": [
    "# передача функции произвольное колл аргументов"
   ]
  },
  {
   "cell_type": "code",
   "execution_count": null,
   "metadata": {},
   "outputs": [],
   "source": [
    "def os_path(*args,sep='\\\\'):#произвольное число параметров псоле * лучше не менять,\n",
    "    # * имя переменной которая будет ссылаться на кол из значений аругментов - чтобы сделать произвольное колл,\n",
    "    # кортеж -неизменяемый тип данных,args-фактический парамаетр,sep-формальный параметр с начальным значением\n",
    "    path =\"\\\\\".join(args)\n",
    "    return path\n",
    "\n",
    "os_path('PS C:\\Users\\279015829>',sep='/')#сначала первая строка потом вторая третья и тд).\n",
    "# Коллекция то что идет со звездочкой,обьявление о том что будет н-ое колл значений, \n",
    "# то есть тут будет колекция,после коллекиции можно написать аргумент\n",
    "print(p)"
   ]
  },
  {
   "cell_type": "code",
   "execution_count": 201,
   "metadata": {},
   "outputs": [
    {
     "name": "stdout",
     "output_type": "stream",
     "text": [
      "{'trim': True}\n",
      "\n"
     ]
    }
   ],
   "source": [
    "def os_path(*args,sep ='\\\\',**kwargs):\n",
    "    print(kwargs)\n",
    "    # path = kwargs['sep'].join(args)\n",
    "    path = sep.join(args)\n",
    "    return path\n",
    "\n",
    "p = os_path('',sep='/',trim = True)\n",
    "print(p)"
   ]
  },
  {
   "cell_type": "code",
   "execution_count": 202,
   "metadata": {},
   "outputs": [
    {
     "name": "stdout",
     "output_type": "stream",
     "text": [
      "{'trim': True}\n",
      "\n"
     ]
    }
   ],
   "source": [
    "def os_path(*args,sep ='\\\\',**kwargs):\n",
    "    print(kwargs)\n",
    "    if 'trim' in kwargs and kwargs ['trim']:\n",
    "        args =[x.strip()for x in args]\n",
    "    # path = kwargs['sep'].join(args)\n",
    "    path = sep.join(args)\n",
    "    return path\n",
    "\n",
    "p = os_path('',sep='/',trim = True)\n",
    "print(p)\n",
    "#*args - позиционные аргмуенты,kwargs **- именованые,\n",
    "# после * лучше оставить как есть,если disk после args то в args будет доабвлять бес колл аргументов не дойдя до диск,\n",
    "# именнованые аргмуентыв после позиционных,seb и позиционный и именованнный,"
   ]
  },
  {
   "cell_type": "code",
   "execution_count": 1,
   "metadata": {},
   "outputs": [],
   "source": [
    "# операторы * и ** упаковка и распаковка\n",
    "\n",
    "# например:\n",
    "# def os_path(disk,*args,sep='\\',**kwargs)\n",
    "#распкаковка когда из словаря на какието части надо присвоить к переменным,упаковка присвоить переменные к словарю\n",
    "\n",
    "x,y = (1,2,3,4)\n",
    "\n",
    "x,*y =(1,2,3,4)\n",
    "x\n",
    "\n",
    "x, *y =[1,\"a\",True,4]\n",
    "x\n"
   ]
  },
  {
   "cell_type": "code",
   "execution_count": 203,
   "metadata": {},
   "outputs": [
    {
     "name": "stdout",
     "output_type": "stream",
     "text": [
      "['H', 'e', 'l', 'l', 'o', ' ', 'P', 'y', 't', 'h']\n",
      "o\n",
      "n\n"
     ]
    }
   ],
   "source": [
    "*x,y,z = \"Hello Python\"\n",
    "print(x)\n",
    "print(y)\n",
    "print(z)\n"
   ]
  },
  {
   "cell_type": "code",
   "execution_count": 204,
   "metadata": {},
   "outputs": [
    {
     "ename": "TypeError",
     "evalue": "unsupported operand type(s) for -: 'list' and 'int'",
     "output_type": "error",
     "traceback": [
      "\u001b[1;31m---------------------------------------------------------------------------\u001b[0m",
      "\u001b[1;31mTypeError\u001b[0m                                 Traceback (most recent call last)",
      "Cell \u001b[1;32mIn[204], line 1\u001b[0m\n\u001b[1;32m----> 1\u001b[0m \u001b[38;5;241m*\u001b[39m\u001b[43mx\u001b[49m\u001b[43m \u001b[49m\u001b[38;5;241;43m-\u001b[39;49m\u001b[38;5;241;43m1\u001b[39;49m,\u001b[38;5;241m2\u001b[39m,\u001b[38;5;241m3\u001b[39m \u001b[38;5;66;03m#Ошибка,они уже храянятся так\u001b[39;00m\n",
      "\u001b[1;31mTypeError\u001b[0m: unsupported operand type(s) for -: 'list' and 'int'"
     ]
    }
   ],
   "source": [
    "*x -1,2,3 #Ошибка,они уже храянятся так"
   ]
  },
  {
   "cell_type": "code",
   "execution_count": 205,
   "metadata": {},
   "outputs": [
    {
     "data": {
      "text/plain": [
       "([1, 2, 3],)"
      ]
     },
     "execution_count": 205,
     "metadata": {},
     "output_type": "execute_result"
    }
   ],
   "source": [
    "*x,y =1,2,3\n",
    "a =[1,2,3]\n",
    "(a, )"
   ]
  },
  {
   "cell_type": "code",
   "execution_count": 206,
   "metadata": {},
   "outputs": [
    {
     "data": {
      "text/plain": [
       "(1, 2, 3)"
      ]
     },
     "execution_count": 206,
     "metadata": {},
     "output_type": "execute_result"
    }
   ],
   "source": [
    "*x, y =1,2,3\n",
    "a =[1,2,3]\n",
    "(*a,)"
   ]
  },
  {
   "cell_type": "code",
   "execution_count": 208,
   "metadata": {},
   "outputs": [
    {
     "name": "stdout",
     "output_type": "stream",
     "text": [
      "(-5, 5)\n",
      "[-5, -4, -3, -2, -1, 0, 1, 2, 3, 4]\n",
      "-----------------------\n",
      "[-5, -4, -3, -2, -1, 0, 1, 2, 3, 4]\n"
     ]
    }
   ],
   "source": [
    "d =(-5,5)\n",
    "print(d)\n",
    "\n",
    "print(list(range(*d)))\n",
    "print('-----------------------')\n",
    "print([*range(*d)])"
   ]
  },
  {
   "cell_type": "code",
   "execution_count": 209,
   "metadata": {},
   "outputs": [
    {
     "data": {
      "text/plain": [
       "[-5, -4, -3, -2, -1, 0, 1, 2, 3, 4, True, False, 1, 2, 3]"
      ]
     },
     "execution_count": 209,
     "metadata": {},
     "output_type": "execute_result"
    }
   ],
   "source": [
    "[*range(*d),*(True,False), *a]#обьекты можно добавить через запятую\n",
    "#обьединять словари"
   ]
  },
  {
   "cell_type": "code",
   "execution_count": 28,
   "metadata": {},
   "outputs": [
    {
     "name": "stdout",
     "output_type": "stream",
     "text": [
      "площадь квадрата равна:9\n",
      "None\n"
     ]
    }
   ],
   "source": [
    "def calculate_value(shape,*args,type ='площадь'):\n",
    "    if type =='площадь':\n",
    "        \n",
    "        if shape =='квадрат':\n",
    "            S = args[0] * args[0]\n",
    "            return f'площадь квадрата равна:{S}'\n",
    "    \n",
    "    elif shape == 'прямоугольник':\n",
    "            S = args[0] * args[1] \n",
    "            return f'площадь прямоугольника равна:{S}'\n",
    "    \n",
    "    elif shape =='круг':\n",
    "            S = 3,14 * args[0] * 2\n",
    "            return f'площадь круга равна:{S}'\n",
    "    \n",
    "    elif type =='объем':\n",
    "        if shape =='куб':\n",
    "             V = args[0]* 3\n",
    "        return f'объем куба равен:{V}'\n",
    "    \n",
    "    elif shape == 'параллелепипед':\n",
    "            V = args[0] * args[1] * args[2]\n",
    "            return f'объем параллелепипеда равен:{V}'\n",
    "    \n",
    "    elif shape =='шар':\n",
    "            V = 3 / 4 * 3,14 * args[0] * 3\n",
    "            return f'объем шара равен:{V}'\n",
    "    \n",
    "    else:\n",
    "            'Введите вверную фигуру'\n",
    "\n",
    "\n",
    "user_value = calculate_value('квадрат',3)\n",
    "print(user_value)\n",
    "\n",
    "user_value = calculate_value('прямоугольник',2,8)\n",
    "print(user_value)\n",
    "\n"
   ]
  },
  {
   "cell_type": "code",
   "execution_count": 1,
   "metadata": {},
   "outputs": [
    {
     "name": "stdout",
     "output_type": "stream",
     "text": [
      "0\n",
      "1\n",
      "2\n",
      "3\n",
      "4\n",
      "5\n",
      "6\n",
      "7\n",
      "8\n",
      "9\n"
     ]
    }
   ],
   "source": [
    "#генераторы и замыкания\n",
    "\n",
    "# генераторы чтобы сразу сгенерировать несколько значений\n",
    "a = range(0,10)\n",
    "for i in a:\n",
    "    print(i)"
   ]
  },
  {
   "cell_type": "code",
   "execution_count": null,
   "metadata": {},
   "outputs": [],
   "source": [
    "#протокол итератора - это от как обьект должен себя вести,чтобы соответстоввать правилам,налагаемым контекстом выражений for и in.\n",
    "\n",
    "# методы: __iter__()\n",
    "# __nexr__\n",
    "\n",
    "# итератор создается первым затем питон вызывает метод iter\n",
    "\n",
    "итерируемый обьект"
   ]
  },
  {
   "cell_type": "code",
   "execution_count": 4,
   "metadata": {},
   "outputs": [
    {
     "name": "stdout",
     "output_type": "stream",
     "text": [
      "__init__\n",
      "__init__\n",
      "__iter__\n",
      "__next__\n",
      "1\n",
      "__next__\n",
      "1\n",
      "__next__\n",
      "2\n",
      "__next__\n",
      "2\n",
      "__next__\n",
      "2\n",
      "__next__\n",
      "2\n",
      "__next__\n",
      "2\n",
      "__next__\n",
      "2\n",
      "__next__\n",
      "2\n",
      "__next__\n",
      "2\n",
      "__next__\n",
      "2\n",
      "__next__\n"
     ]
    }
   ],
   "source": [
    "class Fib:\n",
    "    def __init__(self,nn):\n",
    "        print(\"__init__\")\n",
    "        self.__n = nn\n",
    "        self.__i = 0\n",
    "        self.__p1 = self.__p2 = 1\n",
    "\n",
    "    def __iter__(self):\n",
    "        print(\"__iter__\")\n",
    "        return self\n",
    "    \n",
    "    def __next__(self):\n",
    "        print(\"__next__\")\n",
    "        self.__i += 1\n",
    "        if self.__i > self.__n:\n",
    "            raise StopIteration\n",
    "        if self.__i in (1,2):\n",
    "            return 1\n",
    "        ret = self.__p1 + self.__p2\n",
    "        self._p1,self._p2 = self.__p2,ret\n",
    "        return ret\n",
    "    \n",
    "class Class:\n",
    "    def __init__(self,n):\n",
    "        self.__iter = Fib(n)\n",
    "\n",
    "    def __iter__(self,n):\n",
    "        print('Class iter')\n",
    "        return self.__iter;\n",
    "\n",
    "object = Class(8)\n",
    "    \n",
    "for i in Fib(11):\n",
    "    print(i)"
   ]
  },
  {
   "cell_type": "code",
   "execution_count": 10,
   "metadata": {},
   "outputs": [
    {
     "data": {
      "text/plain": [
       "<generator object fun at 0x0000020A0CE41700>"
      ]
     },
     "execution_count": 10,
     "metadata": {},
     "output_type": "execute_result"
    }
   ],
   "source": [
    "# опреатор yield\n",
    "def fun(n):\n",
    "    for i in range(n):\n",
    "        yield i\n",
    "fun(3)"
   ]
  },
  {
   "cell_type": "code",
   "execution_count": 6,
   "metadata": {},
   "outputs": [
    {
     "name": "stdout",
     "output_type": "stream",
     "text": [
      "1\n",
      "2\n",
      "4\n",
      "8\n",
      "16\n",
      "32\n",
      "64\n",
      "128\n",
      "[1, 2, 4, 8, 16, 32, 64, 128]\n",
      "list[<generator object powerof at 0x000002B22A909490>]\n"
     ]
    }
   ],
   "source": [
    "# построение собственного генератора:\n",
    "\n",
    "def powerof(n):\n",
    "    pow = 1\n",
    "    for i in range(n):\n",
    "        yield pow\n",
    "        pow *=2\n",
    "\n",
    "\n",
    "for v in powerof(8):\n",
    "    print(v)\n",
    "\n",
    "t = [x for x in powerof(8)]\n",
    "\n",
    "print(t)\n"
   ]
  },
  {
   "cell_type": "code",
   "execution_count": 8,
   "metadata": {},
   "outputs": [
    {
     "name": "stdout",
     "output_type": "stream",
     "text": [
      "[1, 1, 2, 3, 5, 8, 13, 21, 34, 55]\n"
     ]
    }
   ],
   "source": [
    "def Fib(n):\n",
    "    p = pp = 1\n",
    "    for i in range(n):\n",
    "        if i in [0, 1]:\n",
    "            yield 1\n",
    "        else:\n",
    "            n = p + pp\n",
    "            pp,p = p, n\n",
    "            yield n\n",
    "\n",
    "fibs = list(Fib(10))\n",
    "\n",
    "print(fibs)"
   ]
  },
  {
   "cell_type": "code",
   "execution_count": 10,
   "metadata": {},
   "outputs": [
    {
     "name": "stdout",
     "output_type": "stream",
     "text": [
      "[1, 10, 100, 1000, 10000, 100000]\n",
      "[1, 10, 100, 1000, 10000, 100000]\n"
     ]
    }
   ],
   "source": [
    "listOne = []\n",
    "\n",
    "for ex in range(6):\n",
    "    listOne.append(10 ** ex)\n",
    "\n",
    "\n",
    "listTwo = [10 ** ex for ex in range(6) ]\n",
    "\n",
    "print(listOne)\n",
    "print(listTwo)"
   ]
  },
  {
   "cell_type": "code",
   "execution_count": null,
   "metadata": {},
   "outputs": [],
   "source": [
    "# условный оператор (conditional expression)способ выбора 1 из 2 значений на основе результата логического выражения\n",
    "\n",
    "# expression_one if consition else expression_two"
   ]
  },
  {
   "cell_type": "code",
   "execution_count": 11,
   "metadata": {},
   "outputs": [
    {
     "name": "stdout",
     "output_type": "stream",
     "text": [
      "1\n",
      "2\n"
     ]
    }
   ],
   "source": [
    "numbers = [1, 2, 3, 4, 5]\n",
    "iterator = iter(numbers)  # получаем итератор\n",
    "print(next(iterator))  # 1\n",
    "print(next(iterator))  # 2\n",
    "# и так далее, пока не закончатся элементы"
   ]
  },
  {
   "cell_type": "code",
   "execution_count": 12,
   "metadata": {},
   "outputs": [
    {
     "name": "stdout",
     "output_type": "stream",
     "text": [
      "10\n"
     ]
    }
   ],
   "source": [
    "# lambda\n",
    "\n",
    "double = lambda x: x*2\n",
    "print(double(5))\n",
    "\n",
    "# В вышеуказанном коде lambda x: x*2 — это лямбда-функция. Здесь x — это аргумент, а x*2 — это выражение, которое вычисляется и возвращается.\n",
    "\n",
    "# Эта функция безымянная. Она возвращает функциональный объект с идентификатором double. Сейчас мы можем считать её обычной функцией.\n",
    "\n",
    "# Эта функция может иметь любое количество аргументов, но вычисляет и возвращает только одно значение\n",
    "\n",
    "# Лямбда-функции применимы везде, где требуются объекты-функции \n",
    "\n",
    "# Вы должны помнить, что  синтаксически лямбда-функция ограничена, позволяет представить всего одно выражение\n",
    "\n",
    "# Они имеют множество вариантов применения в конкретных областях программирования, наряду  с другими типами выражений, используемых в функциях."
   ]
  },
  {
   "cell_type": "code",
   "execution_count": null,
   "metadata": {},
   "outputs": [],
   "source": [
    "# . Различие между обычной функцией и лямбда-функцией\n",
    "# Рассмотрим пример и попробуем понять различие между определением (Def) для обычной функции и lambda-функции. Этот код возвращает заданное значение, возведенное в куб:\n",
    "# Как показано в примере выше, обе представленные функции, defined_cube() и  lambda_cube(), ведут себя одинаково, как и предполагалось.\n",
    "\n",
    "# Разберем вышеуказанный пример подробнее:\n",
    "\n",
    "# Без использования лямбды: Здесь обе функции возвращают заданное значение, возведенное в куб. Но при использовании def, нам пришлось определить функцию с именем и defined_cube() дать ей входную величину.  После выполнения нам также понадобилось возвратить результат, из того места, откуда была вызвана функция, и мы сделали это, используя ключевое слово return.\n",
    "\n",
    "# С применением лямбды: Определение лямбды не включает оператор return, а всегда содержит возвращенное выражение. Мы также можем поместить определение лямбды в любое место, где ожидается функция, и нам не нужно присваивать его переменной. Так выглядят простые лямбда-функции.\n",
    "\n",
    "def defined_cube(y):\n",
    "    return y*y*y\n",
    "\n",
    "\n",
    "lambda_cube = lambda y: y*y*y\n",
    "print(defined_cube(2))\n",
    "print(lambda_cube(2))"
   ]
  },
  {
   "cell_type": "code",
   "execution_count": 13,
   "metadata": {},
   "outputs": [
    {
     "name": "stdout",
     "output_type": "stream",
     "text": [
      "f(-2)=18\n",
      "f(-1)=8\n",
      "f(0)=2\n",
      "f(1)=0\n",
      "f(2)=2\n"
     ]
    }
   ],
   "source": [
    "def PrintFunc(args, fun): \n",
    "    for x in args: \n",
    "        print('f(', x,')=', fun(x), sep='') \n",
    " \n",
    "def poly(x): \n",
    "    return 2 * x**2 - 4 * x + 2 \n",
    " \n",
    "PrintFunc([x for x in range(-2, 3)], poly)"
   ]
  },
  {
   "cell_type": "code",
   "execution_count": null,
   "metadata": {},
   "outputs": [],
   "source": [
    "# map() принимает 2 аргумента функцию и список"
   ]
  },
  {
   "cell_type": "code",
   "execution_count": 16,
   "metadata": {},
   "outputs": [
    {
     "name": "stdout",
     "output_type": "stream",
     "text": [
      "[1, 2, 4, 8, 16]\n",
      "1 4 16 64 256 "
     ]
    }
   ],
   "source": [
    "list1 = [x for x in range(5)] \n",
    "list2 = list(map(lambda x: 2 ** x, list1)) \n",
    " \n",
    "print(list2) \n",
    " \n",
    "for x in map(lambda x: x * x, list2): \n",
    "    print(x, end=' ') "
   ]
  },
  {
   "cell_type": "code",
   "execution_count": 20,
   "metadata": {},
   "outputs": [
    {
     "name": "stdout",
     "output_type": "stream",
     "text": [
      "[-3, 3, 1, 10, 6]\n",
      "[10, 6]\n"
     ]
    }
   ],
   "source": [
    "from random import seed, randint \n",
    " \n",
    "seed() \n",
    "data = [randint(-10, 10) for x in range(5)] \n",
    "filtered = list(filter(lambda x: x > 0 and x % 2 == 0, data)) \n",
    " \n",
    "print(data) \n",
    "print(filtered)"
   ]
  },
  {
   "cell_type": "code",
   "execution_count": null,
   "metadata": {},
   "outputs": [],
   "source": [
    "# создайте 2 х мерный массив с помощью выражений размером 5 на 5 со случайными числами,сделайте так чтобы пользователь мог выбрать какой элемент\n",
    "# какой элемент масива должен будет умножаться на 2,умножте на 2 тот элемент,который выбрал пользователь\n",
    "# и все элементы после него,умножте элементы через лямбду функции"
   ]
  },
  {
   "cell_type": "code",
   "execution_count": 3,
   "metadata": {},
   "outputs": [
    {
     "name": "stdout",
     "output_type": "stream",
     "text": [
      "[5, 9, 4, 2, 6]\n",
      "[2, 2, 9, 5, 7]\n",
      "[3, 1, 8, 9, 5]\n",
      "[6, 4, 8, 5, 3]\n",
      "[7, 2, 7, 10, 9]\n",
      "измененный массив\n",
      "[5, 9, 4, 2, 6]\n",
      "[2, 2, 9, 5, 7]\n",
      "[3, 1, 8, 36, 10]\n",
      "[6, 4, 8, 10, 6]\n",
      "[7, 2, 7, 20, 18]\n",
      "Коненчый массив\n",
      "[7.5, 13.5, 6.0, 3.0, 9.0]\n",
      "[3.0, 3.0, 13.5, 7.5, 10.5]\n",
      "[4.5, 1.5, 12.0, 54.0, 15.0]\n",
      "[9.0, 6.0, 12.0, 15.0, 9.0]\n",
      "[10.5, 3.0, 10.5, 30.0, 27.0]\n"
     ]
    }
   ],
   "source": [
    "from random import seed,randint\n",
    "\n",
    "seed()\n",
    "\n",
    "a =[[randint (1,10) for _ in range(5)]for _ in range(5)]\n",
    "\n",
    "for rindex in a:\n",
    "    print(rindex)\n",
    "\n",
    "rindex = int(input(\"Введите ваш индекс строки от 0-4:\"))\n",
    "cindex = int(input(\"Введите индекс столбца от 0-4:\"))\n",
    "\n",
    "a[rindex][cindex] *= 2\n",
    "for i in range(rindex,5):\n",
    "    for j in range(cindex,5):\n",
    "        a[i][j] *= 2\n",
    "\n",
    "\n",
    "print(\"измененный массив\")\n",
    "for rindex in a:\n",
    "    print(rindex)\n",
    "\n",
    "a = list(map(lambda x:list(map(lambda y: y * 1.5, x)), a))\n",
    "\n",
    "print(\"Коненчый массив\")\n",
    "for rindex in a:\n",
    "    print(rindex)"
   ]
  }
 ],
 "metadata": {
  "kernelspec": {
   "display_name": "Python 3",
   "language": "python",
   "name": "python3"
  },
  "language_info": {
   "codemirror_mode": {
    "name": "ipython",
    "version": 3
   },
   "file_extension": ".py",
   "mimetype": "text/x-python",
   "name": "python",
   "nbconvert_exporter": "python",
   "pygments_lexer": "ipython3",
   "version": "3.12.7"
  }
 },
 "nbformat": 4,
 "nbformat_minor": 2
}
